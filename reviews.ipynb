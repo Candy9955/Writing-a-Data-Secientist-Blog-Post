{
 "cells": [
  {
   "cell_type": "markdown",
   "metadata": {},
   "source": [
    "What are the busiest times of the year to visit Seattle? "
   ]
  },
  {
   "cell_type": "code",
   "execution_count": 281,
   "metadata": {},
   "outputs": [],
   "source": [
    "import numpy as np\n",
    "import pandas as pd\n",
    "import matplotlib.pyplot as plt\n",
    "import seaborn as sns\n",
    "from pandas import DataFrame\n",
    "%matplotlib inline\n",
    "\n",
    "df=pd.read_csv('/Users/tangqi/Desktop/DSND_Term2-master/seattle/reviews.csv')"
   ]
  },
  {
   "cell_type": "code",
   "execution_count": 154,
   "metadata": {},
   "outputs": [],
   "source": [
    "#monthly_visits={'Jan':0,'Feb':0,'Mar':0,'Apr':0,'May':0,'June':0,'July':0,'Aug':0,'Sept':0,'Oct':0,'Nov':0,'Dec':0}\n",
    "def Year_Month_Visit(year):\n",
    "    monthly_visits={'01':0,'02':0,'03':0,'04':0,'05':0,'06':0,'07':0,'08':0,'09':0,'10':0,'11':0,'12':0}\n",
    "    for c in df['date']:\n",
    "        if c[:4]==str(year):\n",
    "            month=c[5:7]\n",
    "            if month in monthly_visits:\n",
    "                monthly_visits[month]+=1\n",
    "    return monthly_visits"
   ]
  },
  {
   "cell_type": "code",
   "execution_count": 155,
   "metadata": {},
   "outputs": [
    {
     "name": "stdout",
     "output_type": "stream",
     "text": [
      "Year 2009: {'01': 0, '02': 0, '03': 0, '04': 0, '05': 0, '06': 2, '07': 1, '08': 1, '09': 2, '10': 6, '11': 5, '12': 0}\n",
      "Year 2010: {'01': 3, '02': 3, '03': 7, '04': 5, '05': 10, '06': 22, '07': 19, '08': 38, '09': 53, '10': 33, '11': 38, '12': 23}\n",
      "Year 2011: {'01': 23, '02': 32, '03': 33, '04': 50, '05': 56, '06': 106, '07': 151, '08': 215, '09': 148, '10': 124, '11': 134, '12': 97}\n",
      "Year 2012: {'01': 111, '02': 111, '03': 149, '04': 175, '05': 254, '06': 341, '07': 392, '08': 463, '09': 439, '10': 330, '11': 265, '12': 221}\n",
      "Year 2013: {'01': 237, '02': 215, '03': 304, '04': 358, '05': 525, '06': 752, '07': 883, '08': 1070, '09': 947, '10': 767, '11': 475, '12': 544}\n",
      "Year 2014: {'01': 553, '02': 620, '03': 983, '04': 945, '05': 1239, '06': 1772, '07': 2477, '08': 3268, '09': 3103, '10': 2159, '11': 1750, '12': 1496}\n",
      "Year 2015: {'01': 1717, '02': 1662, '03': 2682, '04': 2700, '05': 3770, '06': 5549, '07': 6580, '08': 7963, '09': 6985, '10': 5536, '11': 3998, '12': 3351}\n",
      "Year 2016: {'01': 223, '02': 0, '03': 0, '04': 0, '05': 0, '06': 0, '07': 0, '08': 0, '09': 0, '10': 0, '11': 0, '12': 0}\n"
     ]
    }
   ],
   "source": [
    "for i in range(2009,2017):\n",
    "    print('Year'+' '+str(i)+':',Year_Month_Visit(i))"
   ]
  },
  {
   "cell_type": "markdown",
   "metadata": {},
   "source": [
    "As we can see from the data above, some of the years have very small dataset that is not qualified for analysis.Year 2014 and 2015 have a bunch of data, seems to be a good choice to analyze them."
   ]
  },
  {
   "cell_type": "code",
   "execution_count": 156,
   "metadata": {},
   "outputs": [
    {
     "data": {
      "text/html": [
       "<div>\n",
       "<style scoped>\n",
       "    .dataframe tbody tr th:only-of-type {\n",
       "        vertical-align: middle;\n",
       "    }\n",
       "\n",
       "    .dataframe tbody tr th {\n",
       "        vertical-align: top;\n",
       "    }\n",
       "\n",
       "    .dataframe thead th {\n",
       "        text-align: right;\n",
       "    }\n",
       "</style>\n",
       "<table border=\"1\" class=\"dataframe\">\n",
       "  <thead>\n",
       "    <tr style=\"text-align: right;\">\n",
       "      <th></th>\n",
       "      <th>2014</th>\n",
       "      <th>2015</th>\n",
       "    </tr>\n",
       "  </thead>\n",
       "  <tbody>\n",
       "    <tr>\n",
       "      <th>total visit</th>\n",
       "      <td>20365</td>\n",
       "      <td>52493</td>\n",
       "    </tr>\n",
       "  </tbody>\n",
       "</table>\n",
       "</div>"
      ],
      "text/plain": [
       "              2014   2015\n",
       "total visit  20365  52493"
      ]
     },
     "execution_count": 156,
     "metadata": {},
     "output_type": "execute_result"
    }
   ],
   "source": [
    "year2014=sum(Year_Month_Visit(2014).values())\n",
    "year2015=sum(Year_Month_Visit(2015).values())\n",
    "d={'2014':[year2014],'2015':[year2015]}\n",
    "pd.DataFrame(data=d,index=['total visit'])"
   ]
  },
  {
   "cell_type": "code",
   "execution_count": 157,
   "metadata": {},
   "outputs": [
    {
     "data": {
      "text/html": [
       "<div>\n",
       "<style scoped>\n",
       "    .dataframe tbody tr th:only-of-type {\n",
       "        vertical-align: middle;\n",
       "    }\n",
       "\n",
       "    .dataframe tbody tr th {\n",
       "        vertical-align: top;\n",
       "    }\n",
       "\n",
       "    .dataframe thead th {\n",
       "        text-align: right;\n",
       "    }\n",
       "</style>\n",
       "<table border=\"1\" class=\"dataframe\">\n",
       "  <thead>\n",
       "    <tr style=\"text-align: right;\">\n",
       "      <th></th>\n",
       "      <th>Rev Nums</th>\n",
       "      <th>%</th>\n",
       "    </tr>\n",
       "    <tr>\n",
       "      <th>Months</th>\n",
       "      <th></th>\n",
       "      <th></th>\n",
       "    </tr>\n",
       "  </thead>\n",
       "  <tbody>\n",
       "    <tr>\n",
       "      <th>Jan</th>\n",
       "      <td>1717</td>\n",
       "      <td>3.270912</td>\n",
       "    </tr>\n",
       "    <tr>\n",
       "      <th>Feb</th>\n",
       "      <td>1662</td>\n",
       "      <td>3.166136</td>\n",
       "    </tr>\n",
       "    <tr>\n",
       "      <th>Mar</th>\n",
       "      <td>2682</td>\n",
       "      <td>5.109253</td>\n",
       "    </tr>\n",
       "    <tr>\n",
       "      <th>Apr</th>\n",
       "      <td>2700</td>\n",
       "      <td>5.143543</td>\n",
       "    </tr>\n",
       "    <tr>\n",
       "      <th>May</th>\n",
       "      <td>3770</td>\n",
       "      <td>7.181910</td>\n",
       "    </tr>\n",
       "    <tr>\n",
       "      <th>June</th>\n",
       "      <td>5549</td>\n",
       "      <td>10.570933</td>\n",
       "    </tr>\n",
       "    <tr>\n",
       "      <th>July</th>\n",
       "      <td>6580</td>\n",
       "      <td>12.535005</td>\n",
       "    </tr>\n",
       "    <tr>\n",
       "      <th>Aug</th>\n",
       "      <td>7963</td>\n",
       "      <td>15.169642</td>\n",
       "    </tr>\n",
       "    <tr>\n",
       "      <th>Sept</th>\n",
       "      <td>6985</td>\n",
       "      <td>13.306536</td>\n",
       "    </tr>\n",
       "    <tr>\n",
       "      <th>Oct</th>\n",
       "      <td>5536</td>\n",
       "      <td>10.546168</td>\n",
       "    </tr>\n",
       "    <tr>\n",
       "      <th>Nov</th>\n",
       "      <td>3998</td>\n",
       "      <td>7.616254</td>\n",
       "    </tr>\n",
       "    <tr>\n",
       "      <th>Dec</th>\n",
       "      <td>3351</td>\n",
       "      <td>6.383708</td>\n",
       "    </tr>\n",
       "  </tbody>\n",
       "</table>\n",
       "</div>"
      ],
      "text/plain": [
       "        Rev Nums          %\n",
       "Months                     \n",
       "Jan         1717   3.270912\n",
       "Feb         1662   3.166136\n",
       "Mar         2682   5.109253\n",
       "Apr         2700   5.143543\n",
       "May         3770   7.181910\n",
       "June        5549  10.570933\n",
       "July        6580  12.535005\n",
       "Aug         7963  15.169642\n",
       "Sept        6985  13.306536\n",
       "Oct         5536  10.546168\n",
       "Nov         3998   7.616254\n",
       "Dec         3351   6.383708"
      ]
     },
     "execution_count": 157,
     "metadata": {},
     "output_type": "execute_result"
    }
   ],
   "source": [
    "a=Year_Month_Visit(2015)\n",
    "Y15_Monthly_Rev=DataFrame(list(a.items()),columns = ['Months','Rev Nums']) \n",
    "Y15_Monthly_Rev=Y15_Monthly_Rev.replace({'Months':{'01':'Jan','02':'Feb','03':'Mar','04':'Apr','05':'May','06':'June','07':'July','08':'Aug','09':'Sept','10':'Oct','11':'Nov','12':'Dec'}})\n",
    "Y15_Monthly_Rev['%']=(Y15_Monthly_Rev['Rev Nums']/Y15_Monthly_Rev['Rev Nums'].sum())*100\n",
    "Y15_Monthly_Rev=Y15_Monthly_Rev.set_index('Months')\n",
    "Y15_Monthly_Rev"
   ]
  },
  {
   "cell_type": "code",
   "execution_count": 137,
   "metadata": {},
   "outputs": [
    {
     "data": {
      "text/html": [
       "<div>\n",
       "<style scoped>\n",
       "    .dataframe tbody tr th:only-of-type {\n",
       "        vertical-align: middle;\n",
       "    }\n",
       "\n",
       "    .dataframe tbody tr th {\n",
       "        vertical-align: top;\n",
       "    }\n",
       "\n",
       "    .dataframe thead th {\n",
       "        text-align: right;\n",
       "    }\n",
       "</style>\n",
       "<table border=\"1\" class=\"dataframe\">\n",
       "  <thead>\n",
       "    <tr style=\"text-align: right;\">\n",
       "      <th></th>\n",
       "      <th>Rev Nums</th>\n",
       "      <th>%</th>\n",
       "    </tr>\n",
       "    <tr>\n",
       "      <th>Months</th>\n",
       "      <th></th>\n",
       "      <th></th>\n",
       "    </tr>\n",
       "  </thead>\n",
       "  <tbody>\n",
       "    <tr>\n",
       "      <th>Jan</th>\n",
       "      <td>553</td>\n",
       "      <td>2.715443</td>\n",
       "    </tr>\n",
       "    <tr>\n",
       "      <th>Feb</th>\n",
       "      <td>620</td>\n",
       "      <td>3.044439</td>\n",
       "    </tr>\n",
       "    <tr>\n",
       "      <th>Mar</th>\n",
       "      <td>983</td>\n",
       "      <td>4.826909</td>\n",
       "    </tr>\n",
       "    <tr>\n",
       "      <th>Apr</th>\n",
       "      <td>945</td>\n",
       "      <td>4.640314</td>\n",
       "    </tr>\n",
       "    <tr>\n",
       "      <th>May</th>\n",
       "      <td>1239</td>\n",
       "      <td>6.083968</td>\n",
       "    </tr>\n",
       "    <tr>\n",
       "      <th>June</th>\n",
       "      <td>1772</td>\n",
       "      <td>8.701203</td>\n",
       "    </tr>\n",
       "    <tr>\n",
       "      <th>July</th>\n",
       "      <td>2477</td>\n",
       "      <td>12.163025</td>\n",
       "    </tr>\n",
       "    <tr>\n",
       "      <th>Aug</th>\n",
       "      <td>3268</td>\n",
       "      <td>16.047140</td>\n",
       "    </tr>\n",
       "    <tr>\n",
       "      <th>Sept</th>\n",
       "      <td>3103</td>\n",
       "      <td>15.236926</td>\n",
       "    </tr>\n",
       "    <tr>\n",
       "      <th>Oct</th>\n",
       "      <td>2159</td>\n",
       "      <td>10.601522</td>\n",
       "    </tr>\n",
       "    <tr>\n",
       "      <th>Nov</th>\n",
       "      <td>1750</td>\n",
       "      <td>8.593175</td>\n",
       "    </tr>\n",
       "    <tr>\n",
       "      <th>Dec</th>\n",
       "      <td>1496</td>\n",
       "      <td>7.345937</td>\n",
       "    </tr>\n",
       "  </tbody>\n",
       "</table>\n",
       "</div>"
      ],
      "text/plain": [
       "        Rev Nums          %\n",
       "Months                     \n",
       "Jan          553   2.715443\n",
       "Feb          620   3.044439\n",
       "Mar          983   4.826909\n",
       "Apr          945   4.640314\n",
       "May         1239   6.083968\n",
       "June        1772   8.701203\n",
       "July        2477  12.163025\n",
       "Aug         3268  16.047140\n",
       "Sept        3103  15.236926\n",
       "Oct         2159  10.601522\n",
       "Nov         1750   8.593175\n",
       "Dec         1496   7.345937"
      ]
     },
     "execution_count": 137,
     "metadata": {},
     "output_type": "execute_result"
    }
   ],
   "source": [
    "b=Year_Month_Visit(2014)\n",
    "Y14_Monthly_Rev=DataFrame(list(b.items()),columns = ['Months','Rev Nums']) \n",
    "Y14_Monthly_Rev=Y14_Monthly_Rev.replace({'Months':{'01':'Jan','02':'Feb','03':'Mar','04':'Apr','05':'May','06':'June','07':'July','08':'Aug','09':'Sept','10':'Oct','11':'Nov','12':'Dec'}})\n",
    "Y14_Monthly_Rev['%']=(Y14_Monthly_Rev['Rev Nums']/Y14_Monthly_Rev['Rev Nums'].sum())*100\n",
    "Y14_Monthly_Rev=Y14_Monthly_Rev.set_index('Months')\n",
    "Y14_Monthly_Rev"
   ]
  },
  {
   "cell_type": "code",
   "execution_count": 285,
   "metadata": {},
   "outputs": [
    {
     "data": {
      "image/png": "[encoded data removed]",
      "text/plain": [
       "<Figure size 432x288 with 1 Axes>"
      ]
     },
     "metadata": {
      "needs_background": "light"
     },
     "output_type": "display_data"
    }
   ],
   "source": [
    "#Plot of Year 2015\n",
    "ax=sns.barplot(x=Y15_Monthly_Rev.index, y=Y15_Monthly_Rev['%'])\n",
    "ax.set_title('Monthly Percentage Reviews in Year 2015')\n",
    "plt.show()"
   ]
  },
  {
   "cell_type": "code",
   "execution_count": 284,
   "metadata": {},
   "outputs": [
    {
     "data": {
      "image/png": "[encoded data removed]",
      "text/plain": [
       "<Figure size 432x288 with 1 Axes>"
      ]
     },
     "metadata": {
      "needs_background": "light"
     },
     "output_type": "display_data"
    }
   ],
   "source": [
    "#Plot of Year 2014\n",
    "ax=sns.barplot(x=Y14_Monthly_Rev.index, y=Y14_Monthly_Rev['%'])\n",
    "ax.set_title('Monthly Percentage Reviews in Year 2014')\n",
    "plt.show()"
   ]
  },
  {
   "cell_type": "code",
   "execution_count": null,
   "metadata": {},
   "outputs": [],
   "source": []
  },
  {
   "cell_type": "code",
   "execution_count": null,
   "metadata": {},
   "outputs": [],
   "source": []
  },
  {
   "cell_type": "code",
   "execution_count": null,
   "metadata": {},
   "outputs": [],
   "source": []
  }
 ],
 "metadata": {
  "kernelspec": {
   "display_name": "Python 3",
   "language": "python",
   "name": "python3"
  },
  "language_info": {
   "codemirror_mode": {
    "name": "ipython",
    "version": 3
   },
   "file_extension": ".py",
   "mimetype": "text/x-python",
   "name": "python",
   "nbconvert_exporter": "python",
   "pygments_lexer": "ipython3",
   "version": "3.6.7"
  }
 },
 "nbformat": 4,
 "nbformat_minor": 2
}
